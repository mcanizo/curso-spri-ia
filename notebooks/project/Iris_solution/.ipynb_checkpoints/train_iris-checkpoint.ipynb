{
 "cells": [
  {
   "cell_type": "markdown",
   "metadata": {},
   "source": [
    "# MLflow Proyect Solution\n",
    "\n",
    "This `train_iris.pynb` Jupyter notebook contains the solutions of the exercise in which a model training must be encapsulated using MLflow Project.\n"
   ]
  },
  {
   "cell_type": "markdown",
   "metadata": {},
   "source": [
    "**Important note**: Wen running a MLflow Project, do not use `set_experiment()` method within your code as it will break your Run. Instead, you must introduce the experiment ID at the time of executing the run command.\n",
    "\n",
    "command: `mlflow run --experiment-id <your-experiment-id> <relative-path-MLproject-file> -P <param-name>=param-value`"
   ]
  },
  {
   "cell_type": "code",
   "execution_count": 1,
   "metadata": {},
   "outputs": [],
   "source": [
    "def train_iris(kernel, C):\n",
    "    import os\n",
    "    import warnings\n",
    "    import sys\n",
    "\n",
    "    import pandas as pd\n",
    "    import numpy as np\n",
    "    from sklearn.model_selection import train_test_split\n",
    "    from sklearn.svm import SVC\n",
    "    from urllib.parse import urlparse\n",
    "    import mlflow\n",
    "    import mlflow.sklearn\n",
    "    import boto3\n",
    "    from sklearn.model_selection import GridSearchCV\n",
    "\n",
    "    from sklearn.metrics import accuracy_score, recall_score, f1_score, average_precision_score\n",
    "\n",
    "    import logging\n",
    "    logging.basicConfig(level=logging.WARN)\n",
    "    logger = logging.getLogger(__name__)\n",
    "\n",
    "    def eval_metrics(actual, pred):\n",
    "        accuracy = accuracy_score(actual, pred)\n",
    "        recall = recall_score(actual, pred, average='weighted')\n",
    "        f1 = f1_score(actual, pred, average='weighted')\n",
    "        return accuracy, recall, f1\n",
    "\n",
    "\n",
    "    warnings.filterwarnings(\"ignore\")\n",
    "    np.random.seed(40)\n",
    "\n",
    "    colnames = [\"sepal_length_in_cm\", \"sepal_width_in_cm\", \"petal_length_in_cm\", \"petal_width_in_cm\", \"class\"]\n",
    "    data_url = (\n",
    "        \"https://archive.ics.uci.edu/ml/machine-learning-databases/iris/iris.data\"\n",
    "    )\n",
    "\n",
    "    try:\n",
    "        data = pd.read_csv(data_url, sep=\",\", header=None, names=colnames)\n",
    "    except Exception as e:\n",
    "        logger.exception(\n",
    "            \"Unable to download training & test CSV, check your internet connection. Error: %s\", e\n",
    "        )\n",
    "\n",
    "    data = data.replace({\"class\": {\"Iris-setosa\": 1, \"Iris-versicolor\": 2, \"Iris-virginica\": 3}})\n",
    "\n",
    "    # Split the data into training and test sets. (0.75, 0.25) split.\n",
    "    train, test = train_test_split(data)\n",
    "\n",
    "    train_x = train.drop([\"class\"], axis=1)\n",
    "    test_x = test.drop([\"class\"], axis=1)\n",
    "    train_y = train[[\"class\"]]\n",
    "    test_y = test[[\"class\"]]\n",
    "\n",
    "    print('Train shape:', train_x.shape)\n",
    "    print('Train shape:', test_x.shape)\n",
    "    \n",
    "    print(mlflow.get_tracking_uri())\n",
    "\n",
    "    kernel = str(sys.argv[1]) if len(sys.argv) > 1 else 'linear'\n",
    "    C = float(sys.argv[2]) if len(sys.argv) > 2 else 0.5\n",
    "\n",
    "    with mlflow.start_run():\n",
    "        svm = SVC(C=C, kernel=kernel, random_state=42)\n",
    "        svm.fit(train_x, train_y)\n",
    "\n",
    "        predicted_y = svm.predict(test_x)\n",
    "\n",
    "        (accuracy, recall, f1) = eval_metrics(test_y, predicted_y)\n",
    "\n",
    "        print(\"SVM model (Kernel=%s, C=%f):\" % (kernel, C))\n",
    "        print(\"  accuracy: %s\" % accuracy)\n",
    "        print(\"  recall: %s\" % recall)\n",
    "        print(\"  f1: %s\" % f1)\n",
    "\n",
    "        mlflow.log_param(\"kernel\", kernel)\n",
    "        mlflow.log_param(\"C\", C)\n",
    "        mlflow.log_metric(\"accuracy\", accuracy)\n",
    "        mlflow.log_metric(\"recall\", recall)\n",
    "        mlflow.log_metric(\"f1\", f1)\n",
    "\n",
    "        tracking_url_type_store = urlparse(mlflow.get_tracking_uri()).scheme\n",
    "\n",
    "        # Model registry does not work with file store\n",
    "        if tracking_url_type_store != \"file\":\n",
    "\n",
    "            # Register the model\n",
    "            # There are other ways to use the Model Registry, which depends on the use case,\n",
    "            # please refer to the doc for more information:\n",
    "            # https://mlflow.org/docs/latest/model-registry.html#api-workflow\n",
    "            mlflow.sklearn.log_model(svm, \"model\", registered_model_name=\"iris_svm_model\")\n",
    "        else:\n",
    "            mlflow.sklearn.log_model(svm, \"model\")"
   ]
  },
  {
   "cell_type": "code",
   "execution_count": null,
   "metadata": {},
   "outputs": [],
   "source": [
    "train_iris('linear', 0.5)"
   ]
  },
  {
   "cell_type": "code",
   "execution_count": null,
   "metadata": {},
   "outputs": [],
   "source": [
    "train_iris('linear', 0.2)"
   ]
  },
  {
   "cell_type": "code",
   "execution_count": null,
   "metadata": {},
   "outputs": [],
   "source": [
    "train_iris('linear', 0.1)"
   ]
  }
 ],
 "metadata": {
  "kernelspec": {
   "display_name": "Python 3",
   "language": "python",
   "name": "python3"
  },
  "language_info": {
   "codemirror_mode": {
    "name": "ipython",
    "version": 3
   },
   "file_extension": ".py",
   "mimetype": "text/x-python",
   "name": "python",
   "nbconvert_exporter": "python",
   "pygments_lexer": "ipython3",
   "version": "3.6.12"
  }
 },
 "nbformat": 4,
 "nbformat_minor": 2
}

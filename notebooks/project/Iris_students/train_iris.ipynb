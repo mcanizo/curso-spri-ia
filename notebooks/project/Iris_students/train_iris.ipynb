{
 "cells": [
  {
   "cell_type": "markdown",
   "metadata": {},
   "source": [
    "# MLflow Proyect Exercise\n",
    "\n",
    "This `train_iris.pynb` Jupyter notebook contains the exercise in which a model training must be encapsulated using MLflow Project.\n"
   ]
  },
  {
   "cell_type": "markdown",
   "metadata": {},
   "source": [
    "**Important note**: Wen running a MLflow Project, do not use `set_experiment()` method within your code as it will break your Run. Instead, you must introduce the experiment ID at the time of executing the run command.\n",
    "\n",
    "command: `mlflow run --experiment-id <your-experiment-id> <relative-path-MLproject-file> -P <param-name>=param-value`"
   ]
  },
  {
   "cell_type": "markdown",
   "metadata": {},
   "source": [
    "You can use the same code as in the Tracking exercise"
   ]
  },
  {
   "cell_type": "code",
   "execution_count": 1,
   "metadata": {},
   "outputs": [],
   "source": []
  }
 ],
 "metadata": {
  "kernelspec": {
   "display_name": "Python 3",
   "language": "python",
   "name": "python3"
  },
  "language_info": {
   "codemirror_mode": {
    "name": "ipython",
    "version": 3
   },
   "file_extension": ".py",
   "mimetype": "text/x-python",
   "name": "python",
   "nbconvert_exporter": "python",
   "pygments_lexer": "ipython3",
   "version": "3.6.12"
  }
 },
 "nbformat": 4,
 "nbformat_minor": 2
}

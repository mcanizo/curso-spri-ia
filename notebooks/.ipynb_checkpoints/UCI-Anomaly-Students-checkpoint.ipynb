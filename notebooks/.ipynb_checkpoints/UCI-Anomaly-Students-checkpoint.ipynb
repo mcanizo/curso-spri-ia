{
 "cells": [
  {
   "cell_type": "code",
   "execution_count": 45,
   "metadata": {
    "pycharm": {
     "name": "#%%\n"
    }
   },
   "outputs": [],
   "source": [
    "#by: ekhi zugasti (mondragon unibertsitatea)\n",
    "# date: 2020/10/30"
   ]
  },
  {
   "cell_type": "markdown",
   "metadata": {},
   "source": [
    "Este notebook guia al usuario a buscar anomalias en un dataset de fraudes con tarjetas de crédito.\n",
    "El dataset está altamente no balanceado, por lo que es necesario el uso de técnicas de detección de anomalías.\n",
    "\n",
    "pasos realizados:\n",
    "0. importar librerías\n",
    "1. lectura de datos\n",
    "2. limpieza y preproceso\n",
    "3. definir criterios / métricas de validación\n",
    "4. modela la detección de anomalias (al menos 3 métodos)\n",
    " \n",
    "Primero, importaremos las librerías que vamos a necesitar:"
   ]
  },
  {
   "cell_type": "markdown",
   "metadata": {
    "pycharm": {
     "name": "#%% md\n"
    }
   },
   "source": [
    "## paso 0: importar librerias."
   ]
  },
  {
   "cell_type": "code",
   "execution_count": 46,
   "metadata": {
    "pycharm": {
     "name": "#%% \n"
    }
   },
   "outputs": [],
   "source": []
  },
  {
   "cell_type": "markdown",
   "metadata": {
    "pycharm": {
     "name": "#%% md\n"
    }
   },
   "source": [
    " ## Paso 1:\n",
    " Lectura de datos"
   ]
  },
  {
   "cell_type": "code",
   "execution_count": 47,
   "metadata": {
    "pycharm": {
     "name": "#%%\n"
    }
   },
   "outputs": [
    {
     "name": "stdout",
     "output_type": "stream",
     "text": [
      "(1463, 559)\n",
      "(104, 559)\n"
     ]
    }
   ],
   "source": [
    "\n"
   ]
  },
  {
   "cell_type": "markdown",
   "metadata": {},
   "source": [
    "## Paso 2: Preprocesado\n",
    "Lo que visteis con Aitor y Carlos.\n",
    "y recuerda el gatito"
   ]
  },
  {
   "cell_type": "code",
   "execution_count": 48,
   "metadata": {
    "pycharm": {
     "name": "#%%\n"
    }
   },
   "outputs": [],
   "source": []
  },
  {
   "cell_type": "markdown",
   "metadata": {
    "pycharm": {
     "name": "#%% md\n"
    }
   },
   "source": [
    "5. Dividir los datos para la validación:\n",
    "\n",
    "-> dividir datos de aprendizaje (sólo buenos); datos de validación (buenos y malos); datos de test (buenos y malos)\n",
    "\n",
    "-> Los datos de aprendizaje, serán el 80% de los datos buenos\n",
    "\n",
    "-> los datos de validación tendrán: un 10% de los datos buenos, y un 50% de los datos malos\n",
    "\n",
    "-> los datos de test tendrán: un 10% de los datos buenos y un 50% de los malos\n",
    "\n",
    "-> los datos de validación se usarán para calcular el threshold optimo para nuestros datos y nuestra validación.\n"
   ]
  },
  {
   "cell_type": "code",
   "execution_count": 49,
   "metadata": {
    "pycharm": {
     "name": "#%%\n"
    }
   },
   "outputs": [],
   "source": [
    "\n"
   ]
  },
  {
   "cell_type": "markdown",
   "metadata": {
    "pycharm": {
     "name": "#%% md\n"
    }
   },
   "source": [
    "## paso3: criterios de validación\n",
    "¿Cuales crees que deben ser?"
   ]
  },
  {
   "cell_type": "code",
   "execution_count": 51,
   "metadata": {
    "pycharm": {
     "name": "#%%\n"
    }
   },
   "outputs": [],
   "source": [
    "# Importar criterios de validación\n"
   ]
  },
  {
   "cell_type": "markdown",
   "metadata": {
    "pycharm": {
     "name": "#%% md\n"
    }
   },
   "source": [
    "## Seleccionar Metodo(s) para detectar anomalias en el dataset\n",
    "y validar"
   ]
  },
  {
   "cell_type": "code",
   "execution_count": null,
   "metadata": {
    "pycharm": {
     "name": "#%%\n"
    }
   },
   "outputs": [],
   "source": [
    "\n",
    "\n"
   ]
  }
 ],
 "metadata": {
  "kernelspec": {
   "display_name": "Python 3",
   "language": "python",
   "name": "python3"
  },
  "language_info": {
   "codemirror_mode": {
    "name": "ipython",
    "version": 3
   },
   "file_extension": ".py",
   "mimetype": "text/x-python",
   "name": "python",
   "nbconvert_exporter": "python",
   "pygments_lexer": "ipython3",
   "version": "3.6.12"
  }
 },
 "nbformat": 4,
 "nbformat_minor": 1
}

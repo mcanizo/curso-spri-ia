{
 "cells": [
  {
   "cell_type": "markdown",
   "metadata": {},
   "source": [
    "# Model Tracking exercise solution"
   ]
  },
  {
   "cell_type": "markdown",
   "metadata": {},
   "source": [
    "This notebook contains an exercise solution to train a Random Forest on an UCI dataset using the MLflow tracking server to log all the used parameters, metrics and models.\n",
    "\n",
    "The model is trained using the [banknote authentication Data Set](https://archive.ics.uci.edu/ml/datasets/banknote+authentication) from the UCI repository."
   ]
  },
  {
   "cell_type": "markdown",
   "metadata": {},
   "source": [
    "The first step is to import all the required libraries"
   ]
  },
  {
   "cell_type": "code",
   "execution_count": 2,
   "metadata": {},
   "outputs": [],
   "source": [
    "import os\n",
    "import warnings\n",
    "import sys\n",
    "\n",
    "import pandas as pd\n",
    "import numpy as np\n",
    "from sklearn.model_selection import train_test_split\n",
    "from sklearn.ensemble import RandomForestClassifier\n",
    "from urllib.parse import urlparse\n",
    "import mlflow\n",
    "import mlflow.sklearn\n",
    "import boto3\n",
    "from sklearn.model_selection import GridSearchCV\n",
    "from hpsklearn import HyperoptEstimator, random_forest\n",
    "\n",
    "from sklearn.metrics import accuracy_score, recall_score, f1_score, average_precision_score\n",
    "\n",
    "import logging\n",
    "\n",
    "logging.basicConfig(level=logging.WARN)\n",
    "logger = logging.getLogger(__name__)\n",
    "\n",
    "warnings.filterwarnings(\"ignore\")\n",
    "np.random.seed(40)"
   ]
  },
  {
   "cell_type": "markdown",
   "metadata": {},
   "source": [
    "Set the tracking URI to let the mlflow client know where the tracking server is running. In this case, the server is running locally. If the tracnking server is runnig in a remote host, its IP must be set."
   ]
  },
  {
   "cell_type": "code",
   "execution_count": 3,
   "metadata": {},
   "outputs": [],
   "source": [
    "mlflow.set_tracking_uri(\"http://localhost:80\")"
   ]
  },
  {
   "cell_type": "markdown",
   "metadata": {},
   "source": [
    "Verify that the MLflow client is pointing to the correct endpoints"
   ]
  },
  {
   "cell_type": "code",
   "execution_count": 4,
   "metadata": {},
   "outputs": [
    {
     "name": "stdout",
     "output_type": "stream",
     "text": [
      "http://localhost:80\n"
     ]
    }
   ],
   "source": [
    "print(mlflow.get_tracking_uri())"
   ]
  },
  {
   "cell_type": "markdown",
   "metadata": {},
   "source": [
    "Define a function to evaluate the model"
   ]
  },
  {
   "cell_type": "code",
   "execution_count": 12,
   "metadata": {},
   "outputs": [],
   "source": [
    "def eval_metrics(actual, pred):\n",
    "    accuracy = accuracy_score(actual, pred)\n",
    "    recall = recall_score(actual, pred)\n",
    "    f1 = f1_score(actual, pred)\n",
    "    return accuracy, recall, f1"
   ]
  },
  {
   "cell_type": "markdown",
   "metadata": {},
   "source": [
    "Download the Iris dataset from the UCI repository.\n",
    "\n",
    "Hint: this dataset does not contain headers, set columns names manually (check the repository site to know the name of the variables)"
   ]
  },
  {
   "cell_type": "code",
   "execution_count": 6,
   "metadata": {},
   "outputs": [],
   "source": [
    "# Read the data_banknote_authentication.txt file from the URL\n",
    "colnames=[\"variance\", \"skewness\",\"curtosis\",\"entropy\", \"class\"]\n",
    "data_url = (\n",
    "    \"https://archive.ics.uci.edu/ml/machine-learning-databases/00267/data_banknote_authentication.txt\"\n",
    ")\n",
    "\n",
    "try:\n",
    "    data = pd.read_csv(data_url, sep=\",\", header=None, names= colnames)\n",
    "except Exception as e:\n",
    "    logger.exception(\n",
    "        \"Unable to download training & test CSV, check your internet connection. Error: %s\", e\n",
    "    )"
   ]
  },
  {
   "cell_type": "markdown",
   "metadata": {},
   "source": [
    "Explore briefly the dataset"
   ]
  },
  {
   "cell_type": "code",
   "execution_count": 7,
   "metadata": {},
   "outputs": [
    {
     "data": {
      "text/html": [
       "<div>\n",
       "<style scoped>\n",
       "    .dataframe tbody tr th:only-of-type {\n",
       "        vertical-align: middle;\n",
       "    }\n",
       "\n",
       "    .dataframe tbody tr th {\n",
       "        vertical-align: top;\n",
       "    }\n",
       "\n",
       "    .dataframe thead th {\n",
       "        text-align: right;\n",
       "    }\n",
       "</style>\n",
       "<table border=\"1\" class=\"dataframe\">\n",
       "  <thead>\n",
       "    <tr style=\"text-align: right;\">\n",
       "      <th></th>\n",
       "      <th>variance</th>\n",
       "      <th>skewness</th>\n",
       "      <th>curtosis</th>\n",
       "      <th>entropy</th>\n",
       "      <th>class</th>\n",
       "    </tr>\n",
       "  </thead>\n",
       "  <tbody>\n",
       "    <tr>\n",
       "      <th>0</th>\n",
       "      <td>3.62160</td>\n",
       "      <td>8.66610</td>\n",
       "      <td>-2.8073</td>\n",
       "      <td>-0.44699</td>\n",
       "      <td>0</td>\n",
       "    </tr>\n",
       "    <tr>\n",
       "      <th>1</th>\n",
       "      <td>4.54590</td>\n",
       "      <td>8.16740</td>\n",
       "      <td>-2.4586</td>\n",
       "      <td>-1.46210</td>\n",
       "      <td>0</td>\n",
       "    </tr>\n",
       "    <tr>\n",
       "      <th>2</th>\n",
       "      <td>3.86600</td>\n",
       "      <td>-2.63830</td>\n",
       "      <td>1.9242</td>\n",
       "      <td>0.10645</td>\n",
       "      <td>0</td>\n",
       "    </tr>\n",
       "    <tr>\n",
       "      <th>3</th>\n",
       "      <td>3.45660</td>\n",
       "      <td>9.52280</td>\n",
       "      <td>-4.0112</td>\n",
       "      <td>-3.59440</td>\n",
       "      <td>0</td>\n",
       "    </tr>\n",
       "    <tr>\n",
       "      <th>4</th>\n",
       "      <td>0.32924</td>\n",
       "      <td>-4.45520</td>\n",
       "      <td>4.5718</td>\n",
       "      <td>-0.98880</td>\n",
       "      <td>0</td>\n",
       "    </tr>\n",
       "    <tr>\n",
       "      <th>...</th>\n",
       "      <td>...</td>\n",
       "      <td>...</td>\n",
       "      <td>...</td>\n",
       "      <td>...</td>\n",
       "      <td>...</td>\n",
       "    </tr>\n",
       "    <tr>\n",
       "      <th>1367</th>\n",
       "      <td>0.40614</td>\n",
       "      <td>1.34920</td>\n",
       "      <td>-1.4501</td>\n",
       "      <td>-0.55949</td>\n",
       "      <td>1</td>\n",
       "    </tr>\n",
       "    <tr>\n",
       "      <th>1368</th>\n",
       "      <td>-1.38870</td>\n",
       "      <td>-4.87730</td>\n",
       "      <td>6.4774</td>\n",
       "      <td>0.34179</td>\n",
       "      <td>1</td>\n",
       "    </tr>\n",
       "    <tr>\n",
       "      <th>1369</th>\n",
       "      <td>-3.75030</td>\n",
       "      <td>-13.45860</td>\n",
       "      <td>17.5932</td>\n",
       "      <td>-2.77710</td>\n",
       "      <td>1</td>\n",
       "    </tr>\n",
       "    <tr>\n",
       "      <th>1370</th>\n",
       "      <td>-3.56370</td>\n",
       "      <td>-8.38270</td>\n",
       "      <td>12.3930</td>\n",
       "      <td>-1.28230</td>\n",
       "      <td>1</td>\n",
       "    </tr>\n",
       "    <tr>\n",
       "      <th>1371</th>\n",
       "      <td>-2.54190</td>\n",
       "      <td>-0.65804</td>\n",
       "      <td>2.6842</td>\n",
       "      <td>1.19520</td>\n",
       "      <td>1</td>\n",
       "    </tr>\n",
       "  </tbody>\n",
       "</table>\n",
       "<p>1372 rows × 5 columns</p>\n",
       "</div>"
      ],
      "text/plain": [
       "      variance  skewness  curtosis  entropy  class\n",
       "0      3.62160   8.66610   -2.8073 -0.44699      0\n",
       "1      4.54590   8.16740   -2.4586 -1.46210      0\n",
       "2      3.86600  -2.63830    1.9242  0.10645      0\n",
       "3      3.45660   9.52280   -4.0112 -3.59440      0\n",
       "4      0.32924  -4.45520    4.5718 -0.98880      0\n",
       "...        ...       ...       ...      ...    ...\n",
       "1367   0.40614   1.34920   -1.4501 -0.55949      1\n",
       "1368  -1.38870  -4.87730    6.4774  0.34179      1\n",
       "1369  -3.75030 -13.45860   17.5932 -2.77710      1\n",
       "1370  -3.56370  -8.38270   12.3930 -1.28230      1\n",
       "1371  -2.54190  -0.65804    2.6842  1.19520      1\n",
       "\n",
       "[1372 rows x 5 columns]"
      ]
     },
     "execution_count": 7,
     "metadata": {},
     "output_type": "execute_result"
    }
   ],
   "source": [
    "data"
   ]
  },
  {
   "cell_type": "markdown",
   "metadata": {},
   "source": [
    "Split the dataset into train a test datasets. Note the target variable is the column \"class\" (the class to predict), and the rest of the variables refer to features of the model."
   ]
  },
  {
   "cell_type": "code",
   "execution_count": 8,
   "metadata": {},
   "outputs": [
    {
     "name": "stdout",
     "output_type": "stream",
     "text": [
      "Train shape: (1029, 4)\n",
      "Train shape: (343, 4)\n"
     ]
    }
   ],
   "source": [
    "# Split the data into training and test sets. (0.75, 0.25) split.\n",
    "train, test = train_test_split(data)\n",
    "\n",
    "train_x = train.drop([\"class\"], axis=1)\n",
    "test_x = test.drop([\"class\"], axis=1)\n",
    "train_y = train[[\"class\"]]\n",
    "test_y = test[[\"class\"]]\n",
    "\n",
    "print('Train shape:', train_x.shape)\n",
    "print('Train shape:', test_x.shape)"
   ]
  },
  {
   "cell_type": "markdown",
   "metadata": {},
   "source": [
    "Define a function to train the model. In this example, the Random Forest model takes 2 input parameters or more (hyperparameters), which can be modified to chnage the model's behavior:\n",
    "- n_estimators\n",
    "- max_depth\n",
    "\n",
    "To track the hyperparameters introduced by the user, MLflow provides a ``log_param(name, value)`` function in whict the name of the parameter and its corresponding values must be set.\n",
    "\n",
    "To evaluate the model, 3 metrics are defined:\n",
    "- accuracy\n",
    "- recall\n",
    "- f1\n",
    "\n",
    "To track the metrics after evaluating the model, MLflow provides a ``log_metric(name, value)`` function in whict the name of the parameter and its corresponding values must be set."
   ]
  },
  {
   "cell_type": "markdown",
   "metadata": {},
   "source": [
    "Define a function to track the model manually"
   ]
  },
  {
   "cell_type": "code",
   "execution_count": 17,
   "metadata": {},
   "outputs": [],
   "source": [
    "def train_gridsearch(parameters: dict):\n",
    "    mlflow.set_experiment('randomForest')\n",
    "        \n",
    "    for n_estimators in parameters['n_estimators']:\n",
    "        for max_depth in parameters['max_depth']:\n",
    "            with mlflow.start_run():\n",
    "\n",
    "                rf = RandomForestClassifier(n_estimators=n_estimators, max_depth=max_depth, random_state=42)\n",
    "                rf.fit(train_x, train_y)\n",
    "\n",
    "                predicted_y = rf.predict(test_x)\n",
    "\n",
    "                (accuracy, recall, f1) = eval_metrics(test_y, predicted_y)\n",
    "\n",
    "                print(\"RandomForestClassifier model (n_estimators=%f, C=%f):\" % (n_estimators, max_depth))\n",
    "                print(\"  accuracy: %s\" % accuracy)\n",
    "                print(\"  recall: %s\" % recall)\n",
    "                print(\"  f1: %s\" % f1)\n",
    "\n",
    "                mlflow.log_param(\"n_estimators\", n_estimators)\n",
    "                mlflow.log_param(\"max_depth\", max_depth)\n",
    "                mlflow.log_metric(\"accuracy\", accuracy)\n",
    "                mlflow.log_metric(\"recall\", recall)\n",
    "                mlflow.log_metric(\"f1\", f1)\n",
    "\n",
    "                mlflow.sklearn.log_model(rf, \"model\")"
   ]
  },
  {
   "cell_type": "markdown",
   "metadata": {},
   "source": [
    "Create a parameters dictionary with hyperparameter values"
   ]
  },
  {
   "cell_type": "code",
   "execution_count": 18,
   "metadata": {},
   "outputs": [],
   "source": [
    "parameters = {\"n_estimators\": (100, 200, 300),\n",
    "              \"max_depth\": (2, 6, 10)}"
   ]
  },
  {
   "cell_type": "markdown",
   "metadata": {},
   "source": [
    "Execute the training function with manual tracking"
   ]
  },
  {
   "cell_type": "code",
   "execution_count": 19,
   "metadata": {
    "scrolled": true
   },
   "outputs": [
    {
     "name": "stdout",
     "output_type": "stream",
     "text": [
      "INFO: 'randomForest' does not exist. Creating a new experiment\n",
      "RandomForestClassifier model (n_estimators=100.000000, C=2.000000):\n",
      "  accuracy: 0.9387755102040817\n",
      "  recall: 0.9387755102040817\n",
      "  f1: 0.938739021444444\n",
      "RandomForestClassifier model (n_estimators=100.000000, C=6.000000):\n",
      "  accuracy: 0.9737609329446064\n",
      "  recall: 0.9737609329446064\n",
      "  f1: 0.9737587007633837\n",
      "RandomForestClassifier model (n_estimators=100.000000, C=10.000000):\n",
      "  accuracy: 0.9737609329446064\n",
      "  recall: 0.9737609329446064\n",
      "  f1: 0.9737587007633837\n",
      "RandomForestClassifier model (n_estimators=200.000000, C=2.000000):\n",
      "  accuracy: 0.9358600583090378\n",
      "  recall: 0.9358600583090378\n",
      "  f1: 0.9358108980457853\n",
      "RandomForestClassifier model (n_estimators=200.000000, C=6.000000):\n",
      "  accuracy: 0.9737609329446064\n",
      "  recall: 0.9737609329446064\n",
      "  f1: 0.9737587007633837\n",
      "RandomForestClassifier model (n_estimators=200.000000, C=10.000000):\n",
      "  accuracy: 0.9766763848396501\n",
      "  recall: 0.9766763848396501\n",
      "  f1: 0.9766763848396501\n",
      "RandomForestClassifier model (n_estimators=300.000000, C=2.000000):\n",
      "  accuracy: 0.9387755102040817\n",
      "  recall: 0.9387755102040817\n",
      "  f1: 0.938739021444444\n",
      "RandomForestClassifier model (n_estimators=300.000000, C=6.000000):\n",
      "  accuracy: 0.9737609329446064\n",
      "  recall: 0.9737609329446064\n",
      "  f1: 0.9737587007633837\n",
      "RandomForestClassifier model (n_estimators=300.000000, C=10.000000):\n",
      "  accuracy: 0.9795918367346939\n",
      "  recall: 0.9795918367346939\n",
      "  f1: 0.9795932252222231\n"
     ]
    }
   ],
   "source": [
    "train_gridsearch(parameters)"
   ]
  },
  {
   "cell_type": "markdown",
   "metadata": {},
   "source": [
    "This is fine but it has more sense if we use the power of the GridSeach library provided by sckit-learn"
   ]
  },
  {
   "cell_type": "code",
   "execution_count": 20,
   "metadata": {},
   "outputs": [],
   "source": [
    "def train_gridsearch_autolog(parameters: dict):\n",
    "    mlflow.set_experiment('randomForest_gridsearch')\n",
    "    mlflow.sklearn.autolog()\n",
    "    \n",
    "    rf = RandomForestClassifier()\n",
    "    rf_gridsearch = GridSearchCV(rf, parameters)\n",
    "        \n",
    "    with mlflow.start_run() as run:\n",
    "        rf_gridsearch.fit(train_x, train_y)"
   ]
  },
  {
   "cell_type": "code",
   "execution_count": 21,
   "metadata": {},
   "outputs": [
    {
     "name": "stdout",
     "output_type": "stream",
     "text": [
      "INFO: 'randomForest_gridsearch' does not exist. Creating a new experiment\n"
     ]
    }
   ],
   "source": [
    "train_gridsearch_autolog(parameters)"
   ]
  },
  {
   "cell_type": "code",
   "execution_count": 10,
   "metadata": {},
   "outputs": [],
   "source": [
    "def train_hyperop_autolog():\n",
    "    mlflow.set_experiment('randomForest_hyperop')\n",
    "    mlflow.sklearn.autolog()\n",
    "    \n",
    "    estim = HyperoptEstimator(\n",
    "        classifier=random_forest('rf'),\n",
    "        max_evals=10,\n",
    "    )\n",
    "        \n",
    "    with mlflow.start_run() as run:\n",
    "        estim.fit(train_x, train_y)"
   ]
  },
  {
   "cell_type": "code",
   "execution_count": 11,
   "metadata": {},
   "outputs": [
    {
     "name": "stdout",
     "output_type": "stream",
     "text": [
      "INFO: 'randomForest_hyperop' does not exist. Creating a new experiment\n",
      "  0%|          | 0/1 [00:00<?, ?trial/s, best loss=?]"
     ]
    },
    {
     "name": "stderr",
     "output_type": "stream",
     "text": [
      "2020/12/10 11:58:48 WARNING mlflow.sklearn.utils: Failed to autolog artifacts for RandomForestClassifier. Logging error: unhashable type: 'numpy.ndarray'\n"
     ]
    },
    {
     "name": "stdout",
     "output_type": "stream",
     "text": [
      "100%|██████████| 1/1 [00:01<00:00,  1.32s/trial, best loss: 0.009708737864077666]\n",
      " 50%|█████     | 1/2 [00:00<?, ?trial/s, best loss=?]"
     ]
    },
    {
     "name": "stderr",
     "output_type": "stream",
     "text": [
      "2020/12/10 11:58:49 WARNING mlflow.sklearn.utils: Failed to autolog artifacts for RandomForestClassifier. Logging error: unhashable type: 'numpy.ndarray'\n"
     ]
    },
    {
     "name": "stdout",
     "output_type": "stream",
     "text": [
      "100%|██████████| 2/2 [00:00<00:00,  1.69trial/s, best loss: 0.009708737864077666]\n",
      " 67%|██████▋   | 2/3 [00:00<?, ?trial/s, best loss=?]"
     ]
    },
    {
     "name": "stderr",
     "output_type": "stream",
     "text": [
      "2020/12/10 11:58:52 WARNING mlflow.sklearn.utils: Failed to autolog artifacts for RandomForestClassifier. Logging error: unhashable type: 'numpy.ndarray'\n"
     ]
    },
    {
     "name": "stdout",
     "output_type": "stream",
     "text": [
      "100%|██████████| 3/3 [00:02<00:00,  2.79s/trial, best loss: 0.009708737864077666]\n",
      " 75%|███████▌  | 3/4 [00:00<?, ?trial/s, best loss=?]"
     ]
    },
    {
     "name": "stderr",
     "output_type": "stream",
     "text": [
      "2020/12/10 11:58:56 WARNING mlflow.sklearn.utils: Failed to autolog artifacts for RandomForestClassifier. Logging error: unhashable type: 'numpy.ndarray'\n"
     ]
    },
    {
     "name": "stdout",
     "output_type": "stream",
     "text": [
      "100%|██████████| 4/4 [00:05<00:00,  5.19s/trial, best loss: 0.009708737864077666]\n",
      " 80%|████████  | 4/5 [00:00<?, ?trial/s, best loss=?]"
     ]
    },
    {
     "name": "stderr",
     "output_type": "stream",
     "text": [
      "2020/12/10 11:59:01 WARNING mlflow.sklearn.utils: Failed to autolog artifacts for RandomForestClassifier. Logging error: unhashable type: 'numpy.ndarray'\n"
     ]
    },
    {
     "name": "stdout",
     "output_type": "stream",
     "text": [
      "100%|██████████| 5/5 [00:05<00:00,  5.14s/trial, best loss: 0.009708737864077666]\n",
      " 83%|████████▎ | 5/6 [00:00<?, ?trial/s, best loss=?]"
     ]
    },
    {
     "name": "stderr",
     "output_type": "stream",
     "text": [
      "2020/12/10 11:59:03 WARNING mlflow.sklearn.utils: Failed to autolog artifacts for RandomForestClassifier. Logging error: unhashable type: 'numpy.ndarray'\n"
     ]
    },
    {
     "name": "stdout",
     "output_type": "stream",
     "text": [
      "100%|██████████| 6/6 [00:00<00:00,  1.49trial/s, best loss: 0.009708737864077666]\n",
      " 86%|████████▌ | 6/7 [00:00<?, ?trial/s, best loss=?]"
     ]
    },
    {
     "name": "stderr",
     "output_type": "stream",
     "text": [
      "2020/12/10 11:59:04 WARNING mlflow.sklearn.utils: Failed to autolog artifacts for RandomForestClassifier. Logging error: unhashable type: 'numpy.ndarray'\n"
     ]
    },
    {
     "name": "stdout",
     "output_type": "stream",
     "text": [
      "100%|██████████| 7/7 [00:00<00:00,  1.66trial/s, best loss: 0.009708737864077666]\n",
      " 88%|████████▊ | 7/8 [00:00<?, ?trial/s, best loss=?]"
     ]
    },
    {
     "name": "stderr",
     "output_type": "stream",
     "text": [
      "2020/12/10 11:59:04 WARNING mlflow.sklearn.utils: Failed to autolog artifacts for RandomForestClassifier. Logging error: unhashable type: 'numpy.ndarray'\n"
     ]
    },
    {
     "name": "stdout",
     "output_type": "stream",
     "text": [
      "100%|██████████| 8/8 [00:00<00:00,  1.54trial/s, best loss: 0.009708737864077666]\n",
      " 89%|████████▉ | 8/9 [00:00<?, ?trial/s, best loss=?]"
     ]
    },
    {
     "name": "stderr",
     "output_type": "stream",
     "text": [
      "2020/12/10 11:59:05 WARNING mlflow.sklearn.utils: Failed to autolog artifacts for RandomForestClassifier. Logging error: unhashable type: 'numpy.ndarray'\n"
     ]
    },
    {
     "name": "stdout",
     "output_type": "stream",
     "text": [
      "100%|██████████| 9/9 [00:00<00:00,  1.63trial/s, best loss: 0.009708737864077666]\n",
      " 90%|█████████ | 9/10 [00:00<?, ?trial/s, best loss=?]"
     ]
    },
    {
     "name": "stderr",
     "output_type": "stream",
     "text": [
      "2020/12/10 11:59:06 WARNING mlflow.sklearn.utils: Failed to autolog artifacts for RandomForestClassifier. Logging error: unhashable type: 'numpy.ndarray'\n",
      "2020/12/10 11:59:07 WARNING mlflow.models.model: Logging model metadata to the tracking server has failed, possibly due older server version. The model artifacts have been logged successfully under s3://mlflow-bucket/mlflow/11/19695a12ab2b4d93b3d55574c1ad82b0/artifacts. In addition to exporting model artifacts, MLflow clients 1.7.0 and above attempt to record model metadata to the  tracking store. If logging to a mlflow server via REST, consider  upgrading the server version to MLflow 1.7.0 or above.\n"
     ]
    },
    {
     "name": "stdout",
     "output_type": "stream",
     "text": [
      "100%|██████████| 10/10 [00:01<00:00,  1.77s/trial, best loss: 0.009708737864077666]\n"
     ]
    },
    {
     "name": "stderr",
     "output_type": "stream",
     "text": [
      "2020/12/10 11:59:09 WARNING mlflow.models.model: Logging model metadata to the tracking server has failed, possibly due older server version. The model artifacts have been logged successfully under s3://mlflow-bucket/mlflow/11/19695a12ab2b4d93b3d55574c1ad82b0/artifacts. In addition to exporting model artifacts, MLflow clients 1.7.0 and above attempt to record model metadata to the  tracking store. If logging to a mlflow server via REST, consider  upgrading the server version to MLflow 1.7.0 or above.\n"
     ]
    }
   ],
   "source": [
    "train_hyperop_autolog()"
   ]
  },
  {
   "cell_type": "markdown",
   "metadata": {},
   "source": [
    "Go to the MLflow UI (http://localhost:80) to see the results of all the runs within the experiment and its corresponding models "
   ]
  }
 ],
 "metadata": {
  "kernelspec": {
   "display_name": "Python 3",
   "language": "python",
   "name": "python3"
  },
  "language_info": {
   "codemirror_mode": {
    "name": "ipython",
    "version": 3
   },
   "file_extension": ".py",
   "mimetype": "text/x-python",
   "name": "python",
   "nbconvert_exporter": "python",
   "pygments_lexer": "ipython3",
   "version": "3.6.12"
  }
 },
 "nbformat": 4,
 "nbformat_minor": 4
}

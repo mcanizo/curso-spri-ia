{
 "cells": [
  {
   "cell_type": "code",
   "execution_count": 45,
   "metadata": {
    "pycharm": {
     "name": "#%%\n"
    }
   },
   "outputs": [],
   "source": [
    "#by: ekhi zugasti (mondragon unibertsitatea)\n",
    "# date: 2020/10/30"
   ]
  },
  {
   "cell_type": "markdown",
   "metadata": {},
   "source": [
    "Este notebook guia al usuario a buscar anomalias en un dataset de fraudes con tarjetas de crédito.\n",
    "El dataset está altamente no balanceado, por lo que es necesario el uso de técnicas de detección de anomalías.\n",
    "\n",
    "pasos realizados:\n",
    "0. importar librerías\n",
    "1. lectura de datos\n",
    "2. limpieza y preproceso\n",
    "3. definir criterios / métricas de validación\n",
    "4. Método 1: distancia de Mahalanobis\n",
    "5. Método 2: Error de resconstucción de PCA\n",
    "6. Método 3: Isolation Forest\n",
    "7. Método 4: oneClass SVM\n",
    " \n",
    "Primero, importaremos las librerías que vamos a necesitar:"
   ]
  },
  {
   "cell_type": "markdown",
   "metadata": {
    "pycharm": {
     "name": "#%% md\n"
    }
   },
   "source": [
    "## paso 0: importar librerias."
   ]
  },
  {
   "cell_type": "code",
   "execution_count": 46,
   "metadata": {
    "pycharm": {
     "name": "#%% \n"
    }
   },
   "outputs": [],
   "source": [
    "import warnings\n",
    "warnings.filterwarnings('ignore')\n",
    "import pandas as pd\n",
    "import numpy as np\n",
    "from sklearn.covariance import  MinCovDet #Robust covariance\n",
    "from sklearn.model_selection import train_test_split\n",
    "import matplotlib.pyplot as plt\n",
    "from sklearn.decomposition import PCA\n",
    "from sklearn.ensemble import IsolationForest\n",
    "from sklearn.svm import OneClassSVM\n",
    "from sklearn.preprocessing import StandardScaler\n",
    "from tqdm import tqdm\n",
    "from statsmodels.tools.eval_measures import mse\n",
    "from sklearn.impute import SimpleImputer\n",
    "\n"
   ]
  },
  {
   "cell_type": "markdown",
   "metadata": {
    "pycharm": {
     "name": "#%% md\n"
    }
   },
   "source": [
    " ## Paso 1:\n",
    " Los datos ya son datos limpios, pero es necesario poner los datos de forma para que los algoritmos de detección de anomalías los entiendan.\n",
    "\n",
    "Básicamente, leemos los datos, y dividimos los datos normales de las anomalías\n"
   ]
  },
  {
   "cell_type": "code",
   "execution_count": 47,
   "metadata": {
    "pycharm": {
     "name": "#%%\n"
    }
   },
   "outputs": [
    {
     "name": "stdout",
     "output_type": "stream",
     "text": [
      "(1463, 559)\n",
      "(104, 559)\n"
     ]
    }
   ],
   "source": [
    "data=pd.read_csv('Data/UCI-SECOM4.csv',index_col=0)\n",
    "\n",
    "#clean data\n",
    "\n",
    "d=data.dropna(axis=1,how='all')\n",
    "d=d.dropna(axis=0,how='all')\n",
    "shapes=d.shape\n",
    "d=d.dropna(axis=1,thresh=int(3*shapes[0]/4))\n",
    "shapes=d.shape\n",
    "d=d.dropna(axis=0,thresh=int(3*shapes[1]/4))\n",
    "colsInfo=d.columns\n",
    "imputer = SimpleImputer(missing_values=np.nan, strategy='median')\n",
    "clean_data = imputer.fit_transform(d)\n",
    "clean_data=pd.DataFrame(clean_data,columns=colsInfo)\n",
    "\n",
    "\n",
    "\n",
    "#Seleccionar transferencias normales para aprendizaje\n",
    "normal = clean_data[clean_data['Pass/Fail'] == -1]\n",
    "\n",
    "#seleccionar transferencias no normales para testeo\n",
    "anomaly = clean_data[clean_data['Pass/Fail'] == 1]\n",
    "\n",
    "\n",
    "print(normal.shape)\n",
    "print(anomaly.shape)\n"
   ]
  },
  {
   "cell_type": "markdown",
   "metadata": {},
   "source": [
    "## Paso 2: Preprocesado\n",
    "1. Quitar duplicados (para que en el test no existan datos con los que aprendemos)\n",
    "2. dividir datos, X e y\n",
    "3. escalar variables\n",
    "4. quitar outliers del dataset de normales (no en este caso... el dataset ya está completo)"
   ]
  },
  {
   "cell_type": "code",
   "execution_count": 48,
   "metadata": {
    "pycharm": {
     "name": "#%%\n"
    }
   },
   "outputs": [],
   "source": [
    "#quitar duplicados\n",
    "normal=normal.drop_duplicates()\n",
    "\n",
    "#normales\n",
    "y_normal=normal.iloc[:,-1]\n",
    "normal=normal.iloc[:,:-1]\n",
    "y_normal=(y_normal+1)\n",
    "#anomalias\n",
    "y_anomaly=anomaly.iloc[:,-1]\n",
    "anomaly=anomaly.iloc[:,:-1]\n",
    "\n",
    "#3-escalar variables\n",
    "sc=StandardScaler()\n",
    "normal_standard=pd.DataFrame(sc.fit_transform(normal),columns = normal.columns)\n",
    "anomaly_standard=pd.DataFrame(sc.transform(anomaly),columns = anomaly.columns)\n",
    "\n",
    "#4 quitar outliers del dataset de normales (no en este caso, los datos son de testbench)\n",
    "\n",
    "# from sklearn.covariance import EllipticEnvelope\n",
    "# outliers = EllipticEnvelope(contamination=0.001).fit_predict(normal_standard,y_normal)\n",
    "# mask = outliers != -1\n",
    "# normal_standard=normal_standard.iloc[mask,:]\n",
    "# y_normal=y_normal.iloc[mask]"
   ]
  },
  {
   "cell_type": "markdown",
   "metadata": {
    "pycharm": {
     "name": "#%% md\n"
    }
   },
   "source": [
    "5. Dividir los datos para la validación:\n",
    "\n",
    "-> dividir datos de aprendizaje (sólo buenos); datos de validación (buenos y malos); datos de test (buenos y malos)\n",
    "\n",
    "-> Los datos de aprendizaje, serán el 80% de los datos buenos\n",
    "\n",
    "-> los datos de validación tendrán: un 10% de los datos buenos, y un 50% de los datos malos\n",
    "\n",
    "-> los datos de test tendrán: un 10% de los datos buenos y un 50% de los malos\n",
    "\n",
    "-> los datos de validación se usarán para calcular el threshold optimo para nuestros datos y nuestra validación.\n"
   ]
  },
  {
   "cell_type": "code",
   "execution_count": 49,
   "metadata": {
    "pycharm": {
     "name": "#%%\n"
    }
   },
   "outputs": [],
   "source": [
    "#dividir datos\n",
    "X_train, normal_test, y_train, y_test = train_test_split(normal_standard, y_normal, test_size=.2, random_state=42)\n",
    "normal_valid, normal_test, y_valid, y_test = train_test_split(normal_test, y_test, test_size=.5, random_state=42)\n",
    "anormal_valid, anormal_test, y_valid2, y_test2 = train_test_split(anomaly_standard, y_anomaly, test_size=.5, random_state=42)"
   ]
  },
  {
   "cell_type": "code",
   "execution_count": 50,
   "metadata": {
    "pycharm": {
     "name": "#%%\n"
    }
   },
   "outputs": [
    {
     "name": "stdout",
     "output_type": "stream",
     "text": [
      "Train shape:  (1170, 558)\n",
      "Valid shape:  (198, 558)\n",
      "Test shape:,  (199, 558)\n"
     ]
    }
   ],
   "source": [
    "# juntar datos anomalos y normales en un unico dataset\n",
    "X_valid = normal_valid.append(anormal_valid)\n",
    "y_valid=y_valid.append(y_valid2)\n",
    "X_test = normal_test.append(anormal_test)\n",
    "y_test=y_test.append(y_test2)\n",
    "\n",
    "\n",
    "print('Train shape: ', X_train.shape)\n",
    "print('Valid shape: ', X_valid.shape)\n",
    "print('Test shape:, ', X_test.shape)"
   ]
  },
  {
   "cell_type": "markdown",
   "metadata": {
    "pycharm": {
     "name": "#%% md\n"
    }
   },
   "source": [
    "## paso3: criterios de validación"
   ]
  },
  {
   "cell_type": "markdown",
   "metadata": {},
   "source": [
    "We can see that even after splitting the normal instances in two, the proportion of anomalies in the test and validation set are still very small.\n",
    "\n",
    "### Evaluation Metrics\n",
    "Since the data is heavily unbalanced, there is no point in using simple accuracy as evaluation metrics, since a naive model that always predicts a normal class would get more than 99% accuracy. We will thus use precision and recall metrics. As in Sklearn documentations:\n",
    "\n",
    "\"A system with high recall but low precision returns many results, but most of its predicted labels are incorrect when compared to the training labels. A system with high precision but low recall is just the opposite, returning very few results, but most of its predicted labels are correct when compared to the training labels. An ideal system with high precision and high recall will return many results, with all results labeled correctly.\n",
    "\n",
    "[[TruePositive, FalsePositive]\n",
    "\n",
    "[FalseNegative,TrueNegative]]\n",
    "\n",
    "Precision ( \\( P\\) ) is defined as the number of true positives ( \\( T_p\\) ) over the number of true positives plus the number of false positives (\\( F_p\\)):\n",
    "\n",
    "$$P = \\frac{T_p}{T_p + F_p}$$\n",
    "\n",
    "Recall (\\( R \\)) is defined as the number of true positives (\\( T_p \\)) over the number of true positives plus the number of false negatives (\\( F_n \\)):\n",
    "\n",
    "$$R = \\frac{T_p}{T_p + F_n}$$\n",
    "\n",
    "These quantities are also related to the (\\( F_1 \\)) score.\"\n",
    "\n",
    "Since we are in a scenario of credit card fraud detection, failing to detect a fraud has a higher cost than assigning as fraudulent a normal transaction. Hence, we are more concerned with a high recall metric, as this shows that our system can consistently detect frauds, even if this means getting a few false positives. Nonetheless, we don't want to have a lot of false positives, since there is also a cost in verifying to much transactions assigned as frauds.\n",
    "\n",
    "So we can summarize our model's performance in a single metric, we will use the `(`\\( F_2 \\)`)` score, which places more importance in recall than precision. Formally, it is defined as\n",
    "\n",
    "$$F_2 = (1+2^2) \\frac{P * R}{2^2 * P + R}$$\n",
    "\n",
    "We will also report confusion matrix for a better understanding of how our errors are distributed.\n"
   ]
  },
  {
   "cell_type": "code",
   "execution_count": 51,
   "metadata": {
    "pycharm": {
     "name": "#%%\n"
    }
   },
   "outputs": [],
   "source": [
    "# Importar criterios de validación\n",
    "from sklearn.metrics import recall_score,precision_score,fbeta_score,confusion_matrix,f1_score\n"
   ]
  },
  {
   "cell_type": "markdown",
   "metadata": {
    "pycharm": {
     "name": "#%% md\n"
    }
   },
   "source": [
    "## Metodo 1: Distancia de Mahalanobis\n",
    "\n",
    "Como esplicado en la teoria, podemos calcular los outliers, haciendo la asumción de que los datos siguen una distribución gausiana, usando la distancia de Mahalanovis.\n",
    "\n",
    "Para ello, tenemos que calcular (estimar) la covarianza, y la media de los datos, para calcular la distancia de cada uno de los puntos.\n",
    "SKlearn tiene diferentes tipos de estimación de covarianza de los datos. en este caso, ustilizaremos la \"covarianza robusta\"-> MinCovDet()"
   ]
  },
  {
   "cell_type": "code",
   "execution_count": 52,
   "metadata": {
    "pycharm": {
     "name": "#%%\n"
    }
   },
   "outputs": [],
   "source": [
    "#cargar modelo, y entrenarlo (calcular covarianza)\n",
    "robust_cov = MinCovDet()\n",
    "robust_cov=robust_cov.fit(X_train)"
   ]
  },
  {
   "cell_type": "code",
   "execution_count": 53,
   "metadata": {
    "pycharm": {
     "name": "#%%\n"
    }
   },
   "outputs": [
    {
     "name": "stdout",
     "output_type": "stream",
     "text": [
      "Mahalanobis Training confusion matrix\n",
      "[[1167    3]\n",
      " [   0    0]]\n"
     ]
    }
   ],
   "source": [
    "#Utilizando la función \"mahalanobis\" del modelo, nos devuelve la distancia, por cada uno de las filas de la tabla.\n",
    "distances_train=robust_cov.mahalanobis(X_train)\n",
    "\n",
    "#Cuando no sabemos cómo poner un umbral, podemos seleccionar un threshold, suponiendo que los datos son gausianos, con la media +3 x std\n",
    "\n",
    "threshold_cov= distances_train.mean()+3*distances_train.std()\n",
    "\n",
    "#todo lo que esté por encima de la distancia umbral, es anómalo.\n",
    "y_hat_train = (distances_train > threshold_cov).astype(int)\n",
    "\n",
    "#veamos como acertamos en el confusión matrix\n",
    "cm_train=confusion_matrix(y_train.values,y_hat_train)\n",
    "print('Mahalanobis Training confusion matrix')\n",
    "print(cm_train)"
   ]
  },
  {
   "cell_type": "markdown",
   "metadata": {
    "pycharm": {
     "name": "#%% md\n"
    }
   },
   "source": [
    "Calculemos con el presente umbral que métricas de validación conseguimos"
   ]
  },
  {
   "cell_type": "code",
   "execution_count": 54,
   "metadata": {
    "pycharm": {
     "name": "#%%\n"
    }
   },
   "outputs": [
    {
     "name": "stdout",
     "output_type": "stream",
     "text": [
      "[[146   0]\n",
      " [ 51   1]]\n",
      "Recall_valid: 0.019230769230769232\n",
      "Precision_valid: 1.0\n",
      "f2_valid: 0.02392344497607656\n"
     ]
    }
   ],
   "source": [
    "#distancia a los datos de validación\n",
    "distances_valid=robust_cov.mahalanobis(X_valid)\n",
    "# predicción de anomaías\n",
    "y_hat_valid = (distances_valid > threshold_cov).astype(int)\n",
    "#cálculo de métricas\n",
    "Recall_valid=recall_score(y_true=y_valid.values,y_pred=y_hat_valid)\n",
    "Precision_valid=precision_score(y_true=y_valid.values,y_pred=y_hat_valid)\n",
    "f2_valid=fbeta_score(y_pred=y_hat_valid, y_true=y_valid.values, beta=2)\n",
    "cm_valid=confusion_matrix(y_valid.values,y_hat_valid)\n",
    "print(cm_valid)\n",
    "print('Recall_valid: '+str(Recall_valid))\n",
    "print('Precision_valid: '+str(Precision_valid))\n",
    "print('f2_valid: '+str(f2_valid))"
   ]
  },
  {
   "cell_type": "markdown",
   "metadata": {
    "pycharm": {
     "name": "#%% md\n"
    }
   },
   "source": [
    "OK! hemos encontrado un modelo, que funciona.... pero se puede mejorar. Para empezar, hemos definido el threshold, sin mirar los datos: hemos hecho una suposición sin probarla, eso no se debería hacer! aún así tenemos un dataset de validación, con fallos! podemos utilizarlo para buscar un threshold que consiga un mejor F2 score"
   ]
  },
  {
   "cell_type": "code",
   "execution_count": 55,
   "metadata": {
    "pycharm": {
     "name": "#%%\n"
    }
   },
   "outputs": [
    {
     "name": "stderr",
     "output_type": "stream",
     "text": [
      "100%|██████████| 1000/1000 [00:04<00:00, 240.38it/s]\n"
     ]
    },
    {
     "name": "stdout",
     "output_type": "stream",
     "text": [
      "0.6403940886699507 0\n"
     ]
    }
   ],
   "source": [
    "# definimos los umbrales que vamos a probar (1000 umbrales)\n",
    "nstep=1000\n",
    "minimo=distances_train.min().astype(int)\n",
    "maximo=distances_train.max().astype(int)\n",
    "thresholds = np.linspace(minimo,maximo,nstep)\n",
    "scores = []\n",
    "# iteramos por umbral, y calculamos las métricas de validación\n",
    "for threshold in tqdm(thresholds):\n",
    "    y_hat = (distances_valid > threshold).astype(int)\n",
    "    scores.append([recall_score(y_pred=y_hat, y_true=y_valid),\n",
    "                 precision_score(y_pred=y_hat, y_true=y_valid),\n",
    "                 fbeta_score(y_pred=y_hat, y_true=y_valid, beta=2),\n",
    "                 f1_score(y_pred=y_hat, y_true=y_valid)])\n",
    "# la mejor métrica F2, la imprimimos\n",
    "scores = np.array(scores)\n",
    "print(scores[:, 2].max(), scores[:, 2].argmax())"
   ]
  },
  {
   "cell_type": "code",
   "execution_count": 56,
   "metadata": {
    "pycharm": {
     "name": "#%%\n"
    }
   },
   "outputs": [
    {
     "data": {
      "image/png": "[encoded data removed]",
      "text/plain": [
       "<Figure size 432x288 with 1 Axes>"
      ]
     },
     "metadata": {
      "needs_background": "light"
     },
     "output_type": "display_data"
    }
   ],
   "source": [
    "#ploteamos las diferentes métricas\n",
    "plt.plot(thresholds, scores[:, 0], label='$Recall$')\n",
    "plt.plot(thresholds, scores[:, 1], label='$Precision$')\n",
    "plt.plot(thresholds, scores[:, 2], label='$F_2$')\n",
    "plt.plot(thresholds, scores[:, 3], label='$F_1$')\n",
    "plt.ylabel('Score')\n",
    "# plt.xticks(np.logspace(-10, -200, 3))\n",
    "plt.xlabel('Threshold')\n",
    "plt.legend(loc='best')\n",
    "plt.show()"
   ]
  },
  {
   "cell_type": "markdown",
   "metadata": {
    "pycharm": {
     "name": "#%% md\n"
    }
   },
   "source": [
    "Seleccionamos el mejor threshold que hemos conseguido con los datos de validación, y lo verificamos con los datos no vistos hasta ahora (X_test)"
   ]
  },
  {
   "cell_type": "code",
   "execution_count": 57,
   "metadata": {
    "pycharm": {
     "name": "#%%\n"
    }
   },
   "outputs": [
    {
     "name": "stdout",
     "output_type": "stream",
     "text": [
      "Confusion matrix TEST, Mahalanobis:\n",
      "[[  0 147]\n",
      " [  0  52]]\n",
      "Recall_test: 1.0\n",
      "Precision_test: 0.2613065326633166\n",
      "F2_test: 0.6388206388206389\n"
     ]
    }
   ],
   "source": [
    "#selección del mejor threshold\n",
    "final_threshold = thresholds[scores[:, 3].argmax()]\n",
    "#calculo de distancias y las predicciones del robust cov.\n",
    "distances_test=robust_cov.mahalanobis(X_test)\n",
    "y_hat_test = (distances_test > final_threshold).astype(int)\n",
    "#cálculo de métricas\n",
    "Recall_test=recall_score(y_true=y_test.values,y_pred=y_hat_test)\n",
    "Precision_test=precision_score(y_true=y_test.values,y_pred=y_hat_test)\n",
    "f2_test=fbeta_score(y_pred=y_hat_test, y_true=y_test.values, beta=2)\n",
    "cm_test=confusion_matrix(y_test.values,y_hat_test)\n",
    "print ('Confusion matrix TEST, Mahalanobis:')\n",
    "print(cm_test)\n",
    "print('Recall_test: '+str(Recall_test))\n",
    "print('Precision_test: '+str(Precision_test))\n",
    "print('F2_test: '+str(f2_test))\n"
   ]
  },
  {
   "cell_type": "markdown",
   "metadata": {},
   "source": [
    "## Método 2: Error de resconstucción de PCA\n",
    "\n",
    "Como comentado en la teoria, el error de reconstrucción de PCA se puede utilizar para detectar anomalías.\n"
   ]
  },
  {
   "cell_type": "code",
   "execution_count": 58,
   "metadata": {
    "pycharm": {
     "name": "#%%\n"
    }
   },
   "outputs": [],
   "source": [
    "# Definimos el numero de componentes principales, se debería utilizar un número alto (para que la reconstrucción en el train sea pequeña) y si hay una anomalía el error será mayor\n",
    "\n",
    "n_components = 0.90\n",
    "\n",
    "# Definir modelo\n",
    "pca = PCA(n_components=n_components)\n",
    "\n",
    "# Entrenar el modelo (y transformar los datos)\n",
    "X_train_PCA = pca.fit_transform(X_train)\n",
    "#ponerlos como pandas, por facilidad\n",
    "X_train_PCA = pd.DataFrame(data=X_train_PCA, index=X_train.index)\n",
    "\n",
    "#Reconstruir la entrada utilizando las features del espacio latente\n",
    "X_train_PCA_inverse = pca.inverse_transform(X_train_PCA)\n",
    "#ponerlos como pandas, por facilidad\n",
    "X_train_PCA_inverse = pd.DataFrame(data=X_train_PCA_inverse, \\\n",
    "                                   index=X_train.index)\n",
    "\n",
    "#calcular la diferencia entre el input y el output usand Mean Squared error\n",
    "anomalyScoresPCA_train = mse(X_train, X_train_PCA_inverse,axis=1)\n",
    "\n",
    "#calcular umbral en modo gausiano para probar.\n",
    "threshold_PCA=anomalyScoresPCA_train.mean()+3*anomalyScoresPCA_train.std()"
   ]
  },
  {
   "cell_type": "code",
   "execution_count": 59,
   "metadata": {
    "pycharm": {
     "name": "#%%\n"
    }
   },
   "outputs": [
    {
     "name": "stdout",
     "output_type": "stream",
     "text": [
      "PCA Training confusion matrix\n",
      "[[1148   22]\n",
      " [   0    0]]\n"
     ]
    }
   ],
   "source": [
    "#todo lo que esté por encima de la distancia umbral, es anómalo.\n",
    "y_hat_train = (anomalyScoresPCA_train > threshold_PCA).astype(int)\n",
    "#veamos como acertamos en el confusión matrix\n",
    "cm_train=confusion_matrix(y_train.values,y_hat_train)\n",
    "print('PCA Training confusion matrix')\n",
    "print(cm_train)"
   ]
  },
  {
   "cell_type": "markdown",
   "metadata": {},
   "source": [
    "Calculemos con el presente umbral que métricas de validación conseguimos"
   ]
  },
  {
   "cell_type": "code",
   "execution_count": 60,
   "metadata": {
    "pycharm": {
     "name": "#%%\n"
    }
   },
   "outputs": [
    {
     "name": "stdout",
     "output_type": "stream",
     "text": [
      "Confusion matrix Valid, PCA:\n",
      "[[129  17]\n",
      " [  1  51]]\n",
      "Recall_valid: 0.9807692307692307\n",
      "Precision_valid: 0.75\n",
      "F2_valid: 0.9239130434782609\n"
     ]
    }
   ],
   "source": [
    "#transformar la validación al espacio latente\n",
    "X_valid_PCA = pca.transform(X_valid)\n",
    "X_valid_PCA = pd.DataFrame(data=X_valid_PCA, index=X_valid.index)\n",
    "\n",
    "#reconstruir la entrada desde el espacio latente\n",
    "X_valid_PCA_inverse = pca.inverse_transform(X_valid_PCA)\n",
    "X_valid_PCA_inverse = pd.DataFrame(data=X_valid_PCA_inverse, \\\n",
    "                                   index=X_valid.index)\n",
    "\n",
    "#calcular la diferencia entre el input y el output usand Mean Squared error\n",
    "anomalyScoresPCA_valid = mse(X_valid, X_valid_PCA_inverse,axis=1)\n",
    "\n",
    "#todo lo que esté por encima de la distancia umbral, es anómalo.\n",
    "y_hat_valid = (anomalyScoresPCA_valid > threshold_PCA).astype(int)\n",
    "#calcular métricas de validación\n",
    "Recall_valid=recall_score(y_true=y_valid.values,y_pred=y_hat_valid)\n",
    "Precision_valid=precision_score(y_true=y_valid.values,y_pred=y_hat_valid)\n",
    "f2_valid=fbeta_score(y_pred=y_hat_valid, y_true=y_valid.values, beta=2)\n",
    "cm_valid=confusion_matrix(y_valid.values,y_hat_valid)\n",
    "print ('Confusion matrix Valid, PCA:')\n",
    "print(cm_valid)\n",
    "print('Recall_valid: '+str(Recall_valid))\n",
    "print('Precision_valid: '+str(Precision_valid))\n",
    "print('F2_valid: '+str(f2_valid))"
   ]
  },
  {
   "cell_type": "markdown",
   "metadata": {},
   "source": [
    "OK! hemos encontrado un modelo, que funciona.... pero se puede mejorar. Para empezar, hemos definido el threshold, sin mirar los datos: hemos hecho una suposición sin probarla, eso no se debería hacer! aún así tenemos un dataset de validación, con fallos! podemos utilizarlo para buscar un threshold que consiga un mejor F2 score"
   ]
  },
  {
   "cell_type": "code",
   "execution_count": 61,
   "metadata": {
    "pycharm": {
     "name": "#%%\n"
    }
   },
   "outputs": [
    {
     "name": "stderr",
     "output_type": "stream",
     "text": [
      "100%|██████████| 1000/1000 [00:04<00:00, 246.46it/s]\n"
     ]
    },
    {
     "name": "stdout",
     "output_type": "stream",
     "text": [
      "0.9409594095940959 507\n"
     ]
    }
   ],
   "source": [
    "nstep=1000\n",
    "minimo=anomalyScoresPCA_train.min()\n",
    "maximo=anomalyScoresPCA_train.max()\n",
    "thresholds = np.linspace(minimo,maximo,nstep)\n",
    "scores = []\n",
    "for threshold in tqdm(thresholds):\n",
    "    y_hat = (anomalyScoresPCA_valid  > threshold).astype(int)\n",
    "    scores.append([recall_score(y_pred=y_hat, y_true=y_valid),\n",
    "                 precision_score(y_pred=y_hat, y_true=y_valid),\n",
    "                 fbeta_score(y_pred=y_hat, y_true=y_valid, beta=2),\n",
    "                 f1_score(y_pred=y_hat, y_true=y_valid)])\n",
    "\n",
    "scores = np.array(scores)\n",
    "print(scores[:, 2].max(), scores[:, 2].argmax())"
   ]
  },
  {
   "cell_type": "code",
   "execution_count": 62,
   "metadata": {
    "pycharm": {
     "name": "#%%\n"
    }
   },
   "outputs": [
    {
     "data": {
      "image/png": "[encoded data removed]",
      "text/plain": [
       "<Figure size 432x288 with 1 Axes>"
      ]
     },
     "metadata": {
      "needs_background": "light"
     },
     "output_type": "display_data"
    }
   ],
   "source": [
    "#ploteamos métricas\n",
    "\n",
    "plt.plot(thresholds, scores[:, 0], label='$Recall$')\n",
    "plt.plot(thresholds, scores[:, 1], label='$Precision$')\n",
    "plt.plot(thresholds, scores[:, 2], label='$F_2$')\n",
    "plt.plot(thresholds, scores[:, 3], label='$F_1$')\n",
    "\n",
    "plt.ylabel('Score')\n",
    "# plt.xticks(np.logspace(-10, -200, 3))\n",
    "plt.xlabel('Threshold')\n",
    "plt.legend(loc='best')\n",
    "plt.show()"
   ]
  },
  {
   "cell_type": "code",
   "execution_count": 63,
   "metadata": {
    "pycharm": {
     "name": "#%%\n"
    }
   },
   "outputs": [
    {
     "name": "stdout",
     "output_type": "stream",
     "text": [
      "Confusion matrix TEST, PCA:\n",
      "[[136  11]\n",
      " [  3  49]]\n",
      "Recall_test: 0.9423076923076923\n",
      "Precision_test: 0.8166666666666667\n",
      "F2_test: 0.9141791044776117\n"
     ]
    }
   ],
   "source": [
    "final_threshold_PCA = thresholds[scores[:, 3].argmax()]\n",
    "\n",
    "X_test_PCA = pca.transform(X_test)\n",
    "X_test_PCA = pd.DataFrame(data=X_test_PCA, index=X_test.index)\n",
    "\n",
    "X_test_PCA_inverse = pca.inverse_transform(X_test_PCA)\n",
    "X_test_PCA_inverse = pd.DataFrame(data=X_test_PCA_inverse, \\\n",
    "                                   index=X_test.index)\n",
    "\n",
    "anomalyScoresPCA_test = mse(X_test, X_test_PCA_inverse,axis=1)\n",
    "\n",
    "y_hat_test = (anomalyScoresPCA_test > final_threshold_PCA).astype(int)\n",
    "Recall_test=recall_score(y_true=y_test.values,y_pred=y_hat_test)\n",
    "Precision_test=precision_score(y_true=y_test.values,y_pred=y_hat_test)\n",
    "f2_test=fbeta_score(y_pred=y_hat_test, y_true=y_test.values, beta=2)\n",
    "cm_test=confusion_matrix(y_test.values,y_hat_test)\n",
    "print ('Confusion matrix TEST, PCA:')\n",
    "print(cm_test)\n",
    "print('Recall_test: '+str(Recall_test))\n",
    "print('Precision_test: '+str(Precision_test))\n",
    "print('F2_test: '+str(f2_test))\n"
   ]
  },
  {
   "cell_type": "markdown",
   "metadata": {},
   "source": [
    "## Método 3: Isolation Forest\n",
    "Veremos cómo utilizar los arboles de decisión para detectar anomalías"
   ]
  },
  {
   "cell_type": "code",
   "execution_count": 64,
   "metadata": {
    "pycharm": {
     "name": "#%%\n"
    }
   },
   "outputs": [
    {
     "data": {
      "text/plain": [
       "IsolationForest(contamination=0.0025, max_samples=117, n_estimators=200,\n",
       "                n_jobs=8)"
      ]
     },
     "execution_count": 64,
     "metadata": {},
     "output_type": "execute_result"
    }
   ],
   "source": [
    "#definir modelo y entrenar.\n",
    "#n_estimators: numero de arboles\n",
    "# max_samples: cuantos samples entran en cada arbol\n",
    "# contamination: cuantos datos suponemos que son outliers en el dataset (valor pequeño, pero no 0, aunque el sobreentrenamiento es \"bueno\" en este caso, el algoritmo necesita y valor pequeño aquí)\n",
    "# j_jobs: el numero de cores a utilizar para cálculo\n",
    "clf = IsolationForest(n_estimators=200, max_samples=int(X_train.shape[0]/10),contamination=0.0025,n_jobs=8)\n",
    "clf.fit(X_train)"
   ]
  },
  {
   "cell_type": "markdown",
   "metadata": {
    "pycharm": {
     "name": "#%% md\n"
    }
   },
   "source": [
    "Este algoritmo nos puede predecir directamente si los datos son anomalo o no, con la función predict.\n",
    "\n",
    "Usemoslo, y calculemos las métricas de validación\n",
    "\n",
    "Predict nos devuelve-> -1 si es outlier y 1 si es inlier."
   ]
  },
  {
   "cell_type": "code",
   "execution_count": 65,
   "metadata": {
    "pycharm": {
     "name": "#%%\n"
    }
   },
   "outputs": [
    {
     "name": "stdout",
     "output_type": "stream",
     "text": [
      "Confusion matrix Train, Isolation,with predict:\n",
      "[[1167    3]\n",
      " [   0    0]]\n",
      "Confusion matrix valid, Isolation,with predict:\n",
      "[[146   0]\n",
      " [ 51   1]]\n",
      "Recall_valid: 0.019230769230769232\n",
      "Precision_valid: 1.0\n",
      "F2_valid: 0.02392344497607656\n",
      "Confusion matrix test, Isolation,with predict:\n",
      "[[146   1]\n",
      " [ 51   1]]\n",
      "Recall_test: 0.019230769230769232\n",
      "Precision_test: 0.5\n",
      "F2_test: 0.02380952380952381\n"
     ]
    }
   ],
   "source": [
    "#predecir train\n",
    "y_hat_train = clf.predict(X_train)\n",
    "#como nuestro target es 0 si inlier y 1 si outlier, tenemos que cambiar las predicciones del modelo\n",
    "y_hat_train=(-y_hat_train+1/2).astype(int)\n",
    "#predecir validación\n",
    "y_hat_valid = clf.predict(X_valid)\n",
    "y_hat_valid=(-y_hat_valid+1/2).astype(int)\n",
    "#predecir test\n",
    "y_hat_test = clf.predict(X_test)\n",
    "y_hat_test=(-y_hat_test+1/2).astype(int)\n",
    "\n",
    "#matriz confusión train\n",
    "cm_train=confusion_matrix(y_train.values,y_hat_train)\n",
    "print ('Confusion matrix Train, Isolation,with predict:')\n",
    "print(cm_train)\n",
    "\n",
    "#validation metrics calculation\n",
    "Recall_valid=recall_score(y_true=y_valid.values,y_pred=y_hat_valid)\n",
    "Precision_valid=precision_score(y_true=y_valid.values,y_pred=y_hat_valid)\n",
    "f2_valid=fbeta_score(y_pred=y_hat_valid, y_true=y_valid.values, beta=2)\n",
    "cm_valid=confusion_matrix(y_valid.values,y_hat_valid)\n",
    "print ('Confusion matrix valid, Isolation,with predict:')\n",
    "print(cm_valid)\n",
    "print('Recall_valid: '+str(Recall_valid))\n",
    "print('Precision_valid: '+str(Precision_valid))\n",
    "print('F2_valid: '+str(f2_valid))\n",
    "\n",
    "#test metrics calculation\n",
    "Recall_test=recall_score(y_true=y_test.values,y_pred=y_hat_test)\n",
    "Precision_test=precision_score(y_true=y_test.values,y_pred=y_hat_test)\n",
    "f2_test=fbeta_score(y_pred=y_hat_test, y_true=y_test.values, beta=2)\n",
    "cm_test=confusion_matrix(y_test.values,y_hat_test)\n",
    "print ('Confusion matrix test, Isolation,with predict:')\n",
    "print(cm_test)\n",
    "print('Recall_test: '+str(Recall_test))\n",
    "print('Precision_test: '+str(Precision_test))\n",
    "print('F2_test: '+str(f2_test))"
   ]
  },
  {
   "cell_type": "markdown",
   "metadata": {
    "pycharm": {
     "name": "#%% md\n"
    }
   },
   "source": [
    "not bad, but, we can try to adjust the threshold again. Instead of using the built-in threshold, we can use the \"decision_function\" function in the model, in order to calculate the \"distance\" for each point"
   ]
  },
  {
   "cell_type": "code",
   "execution_count": 66,
   "metadata": {
    "pycharm": {
     "name": "#%%\n"
    }
   },
   "outputs": [],
   "source": [
    "# calculate \"distances\" or decision weights for each of the datasets\n",
    "train_decision=clf.decision_function(X_train)\n",
    "val_decision=clf.decision_function(X_valid)\n",
    "test_decision=clf.decision_function(X_test)"
   ]
  },
  {
   "cell_type": "markdown",
   "metadata": {
    "pycharm": {
     "name": "#%% md\n"
    }
   },
   "source": [
    "Now, we can do the same as in PCA and mahalanobis, and use the F2 score in validation dataset to find the best threshold.\n",
    "remember, that until now, everytihng that was above the threshold was an anomaly, now everything below a threshold is anomaly, because the algorithm works this way!!!"
   ]
  },
  {
   "cell_type": "code",
   "execution_count": 67,
   "metadata": {
    "pycharm": {
     "name": "#%%\n"
    }
   },
   "outputs": [
    {
     "name": "stderr",
     "output_type": "stream",
     "text": [
      "100%|██████████| 1000/1000 [00:03<00:00, 250.77it/s]\n"
     ]
    },
    {
     "name": "stdout",
     "output_type": "stream",
     "text": [
      "0.6435643564356436 939\n"
     ]
    }
   ],
   "source": [
    "\n",
    "nstep=1000\n",
    "minimo=train_decision.min()\n",
    "maximo=train_decision.max()\n",
    "thresholds = np.linspace(minimo,maximo,nstep)\n",
    "scores = []\n",
    "for threshold in tqdm(thresholds):\n",
    "    #OJO, Por debajo de es anomalia!!!!\n",
    "    y_hat = (val_decision  < threshold).astype(int)\n",
    "    scores.append([recall_score(y_pred=y_hat, y_true=y_valid),\n",
    "                 precision_score(y_pred=y_hat, y_true=y_valid),\n",
    "                 fbeta_score(y_pred=y_hat, y_true=y_valid, beta=2),\n",
    "                 f1_score(y_pred=y_hat, y_true=y_valid)])\n",
    "\n",
    "scores = np.array(scores)\n",
    "print(scores[:, 2].max(), scores[:, 2].argmax())"
   ]
  },
  {
   "cell_type": "code",
   "execution_count": 68,
   "metadata": {
    "pycharm": {
     "name": "#%%\n"
    }
   },
   "outputs": [
    {
     "data": {
      "image/png": "[encoded data removed]",
      "text/plain": [
       "<Figure size 432x288 with 1 Axes>"
      ]
     },
     "metadata": {
      "needs_background": "light"
     },
     "output_type": "display_data"
    }
   ],
   "source": [
    "#ploteamos los resultados\n",
    "plt.plot(thresholds, scores[:, 0], label='$Recall$')\n",
    "plt.plot(thresholds, scores[:, 1], label='$Precision$')\n",
    "plt.plot(thresholds, scores[:, 2], label='$F_2$')\n",
    "plt.plot(thresholds, scores[:, 3], label='$F_1$')\n",
    "\n",
    "plt.ylabel('Score')\n",
    "# plt.xticks(np.logspace(-10, -200, 3))\n",
    "plt.xlabel('Threshold')\n",
    "plt.legend(loc='best')\n",
    "plt.show()"
   ]
  },
  {
   "cell_type": "code",
   "execution_count": 69,
   "metadata": {
    "pycharm": {
     "name": "#%%\n"
    }
   },
   "outputs": [
    {
     "name": "stdout",
     "output_type": "stream",
     "text": [
      "Confusion matrix test, Isolation,with best threshold:\n",
      "[[ 38 109]\n",
      " [  8  44]]\n",
      "Recall_test: 0.8461538461538461\n",
      "Precision_test: 0.2875816993464052\n",
      "F2_test: 0.6094182825484764\n"
     ]
    }
   ],
   "source": [
    "#seleccionamos el mejor threshold\n",
    "final_threshold_IF = thresholds[scores[:, 3].argmax()]\n",
    "#calculamos las predicciones y las métricas\n",
    "y_hat_test = (test_decision < final_threshold_IF).astype(int)\n",
    "Recall_test=recall_score(y_true=y_test.values,y_pred=y_hat_test)\n",
    "Precision_test=precision_score(y_true=y_test.values,y_pred=y_hat_test)\n",
    "f2_test=fbeta_score(y_pred=y_hat_test, y_true=y_test.values, beta=2)\n",
    "cm_test=confusion_matrix(y_test.values,y_hat_test)\n",
    "\n",
    "print ('Confusion matrix test, Isolation,with best threshold:')\n",
    "print(cm_test)\n",
    "print('Recall_test: '+str(Recall_test))\n",
    "print('Precision_test: '+str(Precision_test))\n",
    "print('F2_test: '+str(f2_test))"
   ]
  },
  {
   "cell_type": "markdown",
   "metadata": {},
   "source": [
    "## Método 4: oneClassSVM\n",
    "Por último, veremos cómo entrenar un oneclass SVM"
   ]
  },
  {
   "cell_type": "code",
   "execution_count": 70,
   "metadata": {
    "pycharm": {
     "name": "#%%\n"
    }
   },
   "outputs": [
    {
     "data": {
      "text/plain": [
       "OneClassSVM(gamma=0.001, nu=0.0025)"
      ]
     },
     "execution_count": 70,
     "metadata": {},
     "output_type": "execute_result"
    }
   ],
   "source": [
    "#definir modelo y entrenar\n",
    "#gamma: variable de generalización, cuanto más pequeño, más sobreaprendizaje, en este caso, lo queremos pequeño\n",
    "# nu: básicamente la contaminación del isolation forest, cuantos datos suponemos que son outliers\n",
    "# kernel: el kernel utilizado para conseguir que el resultado sea separable\n",
    "model = OneClassSVM(gamma=0.001, nu=.0025, kernel='rbf')\n",
    "model.fit(X_train)"
   ]
  },
  {
   "cell_type": "markdown",
   "metadata": {
    "pycharm": {
     "name": "#%% md\n"
    }
   },
   "source": [
    "Al igual que en Isolation Forest, OcSVM ofrece una función de predición, lo probamos. este también devuelve: -1 outlier, 1 inlier"
   ]
  },
  {
   "cell_type": "code",
   "execution_count": 71,
   "metadata": {
    "pycharm": {
     "name": "#%%\n"
    }
   },
   "outputs": [
    {
     "name": "stdout",
     "output_type": "stream",
     "text": [
      "Confusion matrix Train, OCSCM,with predict:\n",
      "[[1149   21]\n",
      " [   0    0]]\n",
      "Confusion matrix valid, OCSCM,with predict:\n",
      "[[136  10]\n",
      " [ 21  31]]\n",
      "Recall_valid: 0.5961538461538461\n",
      "Precision_valid: 0.7560975609756098\n",
      "F2_valid: 0.6224899598393573\n",
      "Confusion matrix test, OCSCM,with predict:\n",
      "[[143   4]\n",
      " [ 14  38]]\n",
      "Recall_test: 0.7307692307692307\n",
      "Precision_test: 0.9047619047619048\n",
      "F2_test: 0.76\n"
     ]
    }
   ],
   "source": [
    "#predecir train\n",
    "y_hat_train = model.predict(X_train)\n",
    "#como nuestro target es 0 si inlier y 1 si outlier, tenemos que cambiar las predicciones del modelo\n",
    "y_hat_train=(-y_hat_train+1/2).astype(int)\n",
    "#predecir validación\n",
    "y_hat_valid = model.predict(X_valid)\n",
    "y_hat_valid=(-y_hat_valid+1/2).astype(int)\n",
    "#predecir test\n",
    "y_hat_test = model.predict(X_test)\n",
    "y_hat_test=(-y_hat_test+1/2).astype(int)\n",
    "\n",
    "\n",
    "#matriz confusión train\n",
    "cm_train=confusion_matrix(y_train.values,y_hat_train)\n",
    "print ('Confusion matrix Train, OCSCM,with predict:')\n",
    "print(cm_train)\n",
    "\n",
    "#validation metrics calculation\n",
    "Recall_valid=recall_score(y_true=y_valid.values,y_pred=y_hat_valid)\n",
    "Precision_valid=precision_score(y_true=y_valid.values,y_pred=y_hat_valid)\n",
    "f2_valid=fbeta_score(y_pred=y_hat_valid, y_true=y_valid.values, beta=2)\n",
    "cm_valid=confusion_matrix(y_valid.values,y_hat_valid)\n",
    "print ('Confusion matrix valid, OCSCM,with predict:')\n",
    "print(cm_valid)\n",
    "print('Recall_valid: '+str(Recall_valid))\n",
    "print('Precision_valid: '+str(Precision_valid))\n",
    "print('F2_valid: '+str(f2_valid))\n",
    "\n",
    "#test metrics calculation\n",
    "Recall_test=recall_score(y_true=y_test.values,y_pred=y_hat_test)\n",
    "Precision_test=precision_score(y_true=y_test.values,y_pred=y_hat_test)\n",
    "f2_test=fbeta_score(y_pred=y_hat_test, y_true=y_test.values, beta=2)\n",
    "cm_test=confusion_matrix(y_test.values,y_hat_test)\n",
    "print ('Confusion matrix test, OCSCM,with predict:')\n",
    "print(cm_test)\n",
    "print('Recall_test: '+str(Recall_test))\n",
    "print('Precision_test: '+str(Precision_test))\n",
    "print('F2_test: '+str(f2_test))"
   ]
  },
  {
   "cell_type": "markdown",
   "metadata": {
    "pycharm": {
     "name": "#%% md\n"
    }
   },
   "source": [
    "not bad, but, we can try to adjust the threshold again. Instead of using the built-in threshold, we can use the \"decision_function\" function in the model, in order to calculate the \"distance\" for each point"
   ]
  },
  {
   "cell_type": "code",
   "execution_count": 72,
   "metadata": {
    "pycharm": {
     "name": "#%%\n"
    }
   },
   "outputs": [],
   "source": [
    "# calculate \"distances\" or decision weights for each of the datasets\n",
    "\n",
    "train_decision=model.decision_function(X_train)\n",
    "val_decision=model.decision_function(X_valid)\n",
    "test_decision=model.decision_function(X_test)\n"
   ]
  },
  {
   "cell_type": "markdown",
   "metadata": {
    "pycharm": {
     "name": "#%% md\n"
    }
   },
   "source": [
    "Now, we can do the same as in PCA and mahalanobis, and use the F2 score in validation dataset to find the best threshold.\n",
    "remember, that until now, everytihng that was above the threshold was an anomaly, now everything below a threshold is anomaly, because the algorithm works this way!!!"
   ]
  },
  {
   "cell_type": "code",
   "execution_count": 73,
   "metadata": {
    "pycharm": {
     "name": "#%%\n"
    }
   },
   "outputs": [
    {
     "name": "stderr",
     "output_type": "stream",
     "text": [
      "100%|██████████| 1000/1000 [00:04<00:00, 244.22it/s]\n"
     ]
    },
    {
     "name": "stdout",
     "output_type": "stream",
     "text": [
      "0.8392857142857143 561\n"
     ]
    }
   ],
   "source": [
    "nstep=1000\n",
    "minimo=train_decision.min()\n",
    "maximo=train_decision.max()\n",
    "thresholds = np.linspace(minimo,maximo,nstep)\n",
    "scores = []\n",
    "for threshold in tqdm(thresholds):\n",
    "    #OJO, más pequeño!\n",
    "    y_hat = (val_decision  < threshold).astype(int)\n",
    "    scores.append([recall_score(y_pred=y_hat, y_true=y_valid),\n",
    "                 precision_score(y_pred=y_hat, y_true=y_valid),\n",
    "                 fbeta_score(y_pred=y_hat, y_true=y_valid, beta=2),\n",
    "                 f1_score(y_pred=y_hat, y_true=y_valid)])\n",
    "\n",
    "scores = np.array(scores)\n",
    "print(scores[:, 2].max(), scores[:, 2].argmax())"
   ]
  },
  {
   "cell_type": "code",
   "execution_count": 74,
   "metadata": {
    "pycharm": {
     "name": "#%%\n"
    }
   },
   "outputs": [
    {
     "data": {
      "image/png": "[encoded data removed]",
      "text/plain": [
       "<Figure size 432x288 with 1 Axes>"
      ]
     },
     "metadata": {
      "needs_background": "light"
     },
     "output_type": "display_data"
    }
   ],
   "source": [
    "#ploteamos nuestro thresholds\n",
    "plt.plot(thresholds, scores[:, 0], label='$Recall$')\n",
    "plt.plot(thresholds, scores[:, 1], label='$Precision$')\n",
    "plt.plot(thresholds, scores[:, 2], label='$F_2$')\n",
    "plt.plot(thresholds, scores[:, 3], label='$F_1$')\n",
    "\n",
    "plt.ylabel('Score')\n",
    "# plt.xticks(np.logspace(-10, -200, 3))\n",
    "plt.xlabel('Threshold')\n",
    "plt.legend(loc='best')\n",
    "plt.show()"
   ]
  },
  {
   "cell_type": "code",
   "execution_count": 75,
   "metadata": {
    "pycharm": {
     "name": "#%%\n"
    }
   },
   "outputs": [
    {
     "name": "stdout",
     "output_type": "stream",
     "text": [
      "Confusion matrix test, OCSVM,with best threshold:\n",
      "[[128  19]\n",
      " [  4  48]]\n",
      "Recall_test: 0.9230769230769231\n",
      "Precision_test: 0.7164179104477612\n",
      "F2_test: 0.8727272727272727\n"
     ]
    }
   ],
   "source": [
    "#seleccionamos el mejor threshold\n",
    "final_threshold_OSVM = thresholds[scores[:, 3].argmax()]\n",
    "#calculamos las predicciones y las métricas\n",
    "\n",
    "y_hat_test = (test_decision < final_threshold_OSVM).astype(int)\n",
    "Recall_test=recall_score(y_true=y_test.values,y_pred=y_hat_test)\n",
    "Precision_test=precision_score(y_true=y_test.values,y_pred=y_hat_test)\n",
    "f2_test=fbeta_score(y_pred=y_hat_test, y_true=y_test.values, beta=2)\n",
    "cm_test=confusion_matrix(y_test.values,y_hat_test)\n",
    "print ('Confusion matrix test, OCSVM,with best threshold:')\n",
    "print(cm_test)\n",
    "print('Recall_test: '+str(Recall_test))\n",
    "print('Precision_test: '+str(Precision_test))\n",
    "print('F2_test: '+str(f2_test))"
   ]
  }
 ],
 "metadata": {
  "kernelspec": {
   "display_name": "Python 3",
   "language": "python",
   "name": "python3"
  },
  "language_info": {
   "codemirror_mode": {
    "name": "ipython",
    "version": 3
   },
   "file_extension": ".py",
   "mimetype": "text/x-python",
   "name": "python",
   "nbconvert_exporter": "python",
   "pygments_lexer": "ipython3",
   "version": "3.6.12"
  }
 },
 "nbformat": 4,
 "nbformat_minor": 1
}
